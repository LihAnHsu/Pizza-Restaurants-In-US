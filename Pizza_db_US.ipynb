{
 "cells": [
  {
   "cell_type": "markdown",
   "id": "e420d946-98cf-4c11-9f59-14de4303f8d1",
   "metadata": {},
   "source": [
    "Convert csv to sql db for dbeaver"
   ]
  },
  {
   "cell_type": "code",
   "execution_count": 2,
   "id": "4674ac6a-48cb-4537-ab36-e29a2b370aca",
   "metadata": {},
   "outputs": [],
   "source": [
    "import pandas as pd\n",
    "import sqlite3"
   ]
  },
  {
   "cell_type": "code",
   "execution_count": 3,
   "id": "203a350f-177c-48d3-a852-dbd2d964dcc0",
   "metadata": {},
   "outputs": [],
   "source": [
    "pizza_df = pd.read_csv(r'/Users/lih-anhsu/Desktop/Sample_Project/datafiniti-pizza-restaurants-and-pizzas-on-their-menus/8358_1.csv')"
   ]
  },
  {
   "cell_type": "code",
   "execution_count": 4,
   "id": "5990dfb8-2362-4176-9e53-d07d2152ace5",
   "metadata": {},
   "outputs": [],
   "source": [
    "# SQLite database file path, where I want to save it\n",
    "db_file = '/Users/lih-anhsu/Desktop/Sample_Project/pizza.db'\n",
    "\n",
    "# Table name in the database\n",
    "table_name = 'pizza'\n",
    "\n",
    "# Create a connection to the SQLite database\n",
    "conn = sqlite3.connect(db_file)\n",
    "\n",
    "# Export the DataFrame to SQLite database\n",
    "pizza_df.to_sql(table_name, conn, if_exists='replace', index=False)\n",
    "\n",
    "# Close the connection\n",
    "conn.close()"
   ]
  },
  {
   "cell_type": "code",
   "execution_count": null,
   "id": "6c262b96-b8be-40b6-990c-dd72898208e5",
   "metadata": {},
   "outputs": [],
   "source": []
  },
  {
   "cell_type": "code",
   "execution_count": null,
   "id": "eb174801-b0b6-46c1-bb18-51bf3b33d7cb",
   "metadata": {},
   "outputs": [],
   "source": []
  }
 ],
 "metadata": {
  "kernelspec": {
   "display_name": "Python 3 (ipykernel)",
   "language": "python",
   "name": "python3"
  },
  "language_info": {
   "codemirror_mode": {
    "name": "ipython",
    "version": 3
   },
   "file_extension": ".py",
   "mimetype": "text/x-python",
   "name": "python",
   "nbconvert_exporter": "python",
   "pygments_lexer": "ipython3",
   "version": "3.9.13"
  }
 },
 "nbformat": 4,
 "nbformat_minor": 5
}
